{
 "cells": [
  {
   "cell_type": "markdown",
   "id": "09938fe5",
   "metadata": {},
   "source": [
    "## 17.6.3 Skill Drill "
   ]
  },
  {
   "cell_type": "markdown",
   "id": "b132edba",
   "metadata": {},
   "source": [
    "Create a new Jupyter Notebook and open `loans_data.csv` as a Pandas DataFrame. Encode the following labels \n",
    "of the dataset: `month`, `education`, and `gender`. Then save your DataFrame as loans_data_encoded.csv."
   ]
  },
  {
   "cell_type": "code",
   "execution_count": 1,
   "id": "a6c02430",
   "metadata": {},
   "outputs": [],
   "source": [
    "# Initial imports\n",
    "import pandas as pd\n",
    "from pathlib import Path"
   ]
  },
  {
   "cell_type": "code",
   "execution_count": null,
   "id": "a60e07eb",
   "metadata": {},
   "outputs": [],
   "source": []
  }
 ],
 "metadata": {
  "kernelspec": {
   "display_name": "mlenv",
   "language": "python",
   "name": "mlenv"
  },
  "language_info": {
   "codemirror_mode": {
    "name": "ipython",
    "version": 3
   },
   "file_extension": ".py",
   "mimetype": "text/x-python",
   "name": "python",
   "nbconvert_exporter": "python",
   "pygments_lexer": "ipython3",
   "version": "3.9.12"
  }
 },
 "nbformat": 4,
 "nbformat_minor": 5
}
